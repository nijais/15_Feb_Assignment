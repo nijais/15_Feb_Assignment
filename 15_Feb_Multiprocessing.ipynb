{
 "cells": [
  {
   "cell_type": "markdown",
   "id": "7af65751-7ea9-4bda-a49a-789faf89b716",
   "metadata": {},
   "source": [
    "# Q1. What is multiprocessing in python? Why is it useful?\n",
    "\n",
    "#### Multiprocessing is a technique in Python for achieving parallelism by using multiple processes to execute code simultaneously. Each process runs independently of the others and has its own memory space and Python interpreter. This means that multiprocessing can take full advantage of multi-core CPUs and distribute the workload across different processors.\n",
    "\n",
    "#### In Python, the multiprocessing module provides a way to create and manage processes. It includes a Process class that can be used to create new processes, as well as other classes and functions for managing processes, such as Queue, Pipe, and Lock.\n",
    "\n",
    "#### To use multiprocessing in Python, you typically define a function that you want to execute in parallel, and then create a Process object that will run that function. The Process object is started using the start() method, which spawns a new process to run the function. You can communicate between processes using various mechanisms, such as pipes, queues, and shared memory.\n",
    "\n",
    "#### Multiprocessing can be useful for CPU-bound tasks that can be broken down into smaller pieces and executed independently. By distributing the workload across multiple processes, you can achieve significant performance improvements. However, multiprocessing also incurs some overhead in terms of communication and synchronization between processes, so it may not always be the most efficient solution.\n",
    "\n",
    "#### Multiprocessing is useful for several reasons:\n",
    "\n",
    "#### 1.Increased performance: By using multiple processes to execute code simultaneously, multiprocessing can take full advantage of multi-core CPUs and distribute the workload across different processors. This can lead to significant performance improvements, especially for CPU-bound tasks.\n",
    "\n",
    "#### 2.Improved reliability: Each process runs independently of the others and has its own memory space and Python interpreter. This means that if one process crashes, it does not affect the others.\n",
    "\n",
    "#### 3.Improved resource management: By using multiple processes, you can distribute the workload across different CPUs and reduce the load on any single CPU. This can help prevent resource contention and improve overall system performance.\n",
    "\n",
    "#### 4.Improved scalability: Multiprocessing can be used to scale up your application by running more processes on additional CPUs. This allows your application to handle more workloads and process more data.\n",
    "\n",
    "#### 5.Improved responsiveness: By using multiple processes, you can keep the main process responsive while the child processes are executing. This can be useful for long-running tasks that might otherwise block the main process and make the application unresponsive.\n"
   ]
  },
  {
   "cell_type": "code",
   "execution_count": null,
   "id": "a0593f86-b15d-4e09-8871-4dfd6fd4778c",
   "metadata": {},
   "outputs": [],
   "source": []
  },
  {
   "cell_type": "markdown",
   "id": "7ab11598-441b-4b6c-841c-6599d217dd3f",
   "metadata": {},
   "source": [
    "# Q2. What are the differences between multiprocessing and multithreading?\n",
    "\n",
    "#### Multiprocessing and multithreading are two techniques used in Python to achieve parallelism, which means executing multiple tasks simultaneously.\n",
    "#### The main difference between multiprocessing and multithreading in Python is the way they utilize system resources, such as CPU and memory, to achieve parallelism.\n",
    "\n",
    "#### In multiprocessing, multiple processes are created and executed simultaneously. Each process has its own memory space and Python interpreter, so they can run completely independently of each other. This means that multiprocessing can take full advantage of multi-core CPUs and distribute the workload across different processors. However, interprocess communication is more complex and can require synchronization mechanisms such as locks, semaphores, and queues.\n",
    "\n",
    "#### On the other hand, multithreading involves creating multiple threads within a single process. All threads share the same memory space and Python interpreter, which means they can share data and communicate more easily. However, due to the Global Interpreter Lock (GIL) in CPython, only one thread can execute Python bytecode at a time, which can limit the degree of parallelism that can be achieved. Therefore, multithreading may not be suitable for CPU-bound tasks, but it can be useful for I/O-bound tasks where threads can switch between tasks while waiting for I/O operations to complete.\n",
    "\n",
    "#### In summary, multiprocessing is more suitable for CPU-bound tasks and can take full advantage of multi-core CPUs, while multithreading is more suitable for I/O-bound tasks and can achieve parallelism more easily within a single process."
   ]
  },
  {
   "cell_type": "code",
   "execution_count": null,
   "id": "f4dd0818-5088-4fc8-808a-ef84fe98666d",
   "metadata": {},
   "outputs": [],
   "source": []
  },
  {
   "cell_type": "markdown",
   "id": "fb01eaab-b2cf-4784-b641-11a18fec0efe",
   "metadata": {},
   "source": [
    "# Q3. Write a python code to create a process using the multiprocessing module.\n",
    "\n",
    "import multiprocessing\n",
    "\n",
    "def square (a):\n",
    "    print(\"Squre:\", a**2)\n",
    "    \n",
    "if __name__ =='__main__':\n",
    "    # Create a new process to run the square function\n",
    "    m = multiprocessing.Process(target = square, args=(7,)) \n",
    "    # Start the process\n",
    "    m.start()\n",
    "    # Wait for the process to finish\n",
    "    m.join()\n"
   ]
  },
  {
   "cell_type": "code",
   "execution_count": null,
   "id": "f98f898c-282d-4059-bf70-62139d5e812d",
   "metadata": {},
   "outputs": [],
   "source": []
  },
  {
   "cell_type": "markdown",
   "id": "b065e817-d2e2-4b19-a7cd-6ebe8cd96c8d",
   "metadata": {},
   "source": [
    "# Q4. What is a multiprocessing pool in python? Why is it used?\n",
    "\n",
    "#### A multiprocessing pool in Python is a collection of worker processes that can be used to execute a set of tasks in parallel. The pool manages the processes and distributes the tasks across them, which can lead to significant performance improvements.\n",
    "\n",
    "#### To create a multiprocessing pool, you can use the Pool class from the multiprocessing module. The Pool class takes an optional processes argument, which specifies the number of worker processes to create. By default, the number of worker processes is equal to the number of CPUs on the system.\n",
    "\n",
    "#### A multiprocessing pool is useful because it can manage the creation and management of worker processes, which can be tedious to do manually. Additionally, the pool can help manage system resources, ensuring that the number of worker processes does not exceed the available resources. Using a pool can also make it easier to manage and debug parallel code, as the pool provides a simple interface for submitting tasks and getting results."
   ]
  },
  {
   "cell_type": "code",
   "execution_count": null,
   "id": "a40c19f8-5533-445f-a52a-f8f7a514f8be",
   "metadata": {},
   "outputs": [],
   "source": []
  },
  {
   "cell_type": "markdown",
   "id": "39035d53-8a79-474d-8e17-843c58fcf022",
   "metadata": {},
   "source": [
    "# Q5. How can we create a pool of worker processes in python using the multiprocessing module?\n",
    "\n",
    "import multiprocessing\n",
    "\n",
    "def worker(num):\n",
    "    \"\"\"Function to be executed in the child process\"\"\"\n",
    "    print(f\"Worker {num} starting\")\n",
    "    # Do some work\n",
    "    print(f\"Worker {num} finished\")\n",
    "\n",
    "if __name__ == '__main__':\n",
    "    # Create a pool of worker processes\n",
    "    with multiprocessing.Pool() as pool:\n",
    "        # Submit tasks to the pool using the apply_async method\n",
    "        results = [pool.apply_async(worker, args=(i,)) for i in range(4)]\n",
    "        # Wait for the tasks to complete and get the results\n",
    "        output = [r.get() for r in results]\n",
    "    print(output)\n",
    "    \n",
    "#### In this example, we create a Pool object with the default number of worker processes and use it to submit tasks to the pool. We create a list of AsyncResult objects using the apply_async method of the pool, passing the worker function and a range of arguments to it. We then use a list comprehension to get the results of each task using the get method of the AsyncResult object. Finally, we print the output."
   ]
  },
  {
   "cell_type": "code",
   "execution_count": null,
   "id": "6cb556d2-3a40-4258-a1ee-3cd63176f10b",
   "metadata": {},
   "outputs": [],
   "source": []
  },
  {
   "cell_type": "markdown",
   "id": "f79f60d0-00de-48eb-bad8-1c48ab273f67",
   "metadata": {},
   "source": [
    "# Q6. Write a python program to create 4 processes, each process should print a different number using the multiprocessing module in python.\n",
    "\n",
    "import multiprocessing\n",
    "\n",
    "def square (a):\n",
    "    print(f\"Squre of {a}: {a**2}\")\n",
    "    \n",
    "if __name__ =='__main__':\n",
    "    lst1 = [1,2,3,4]\n",
    "    # Create a process of square for each number in the list1\n",
    "    m = [multiprocessing.Process(target = square, args=(lst,)) for lst in lst1] \n",
    "    # Start all the process\n",
    "    for s in m:\n",
    "        s.start()\n",
    "    # Wait for all the process to finish\n",
    "    for s in m:\n",
    "        s.join()"
   ]
  },
  {
   "cell_type": "code",
   "execution_count": null,
   "id": "277df0e4-42d1-411f-b3c8-1e513cd59b47",
   "metadata": {},
   "outputs": [],
   "source": []
  },
  {
   "cell_type": "code",
   "execution_count": null,
   "id": "2e7e12b5-7ba8-4a44-93ab-72fd6894cad5",
   "metadata": {},
   "outputs": [],
   "source": []
  }
 ],
 "metadata": {
  "kernelspec": {
   "display_name": "Python 3 (ipykernel)",
   "language": "python",
   "name": "python3"
  },
  "language_info": {
   "codemirror_mode": {
    "name": "ipython",
    "version": 3
   },
   "file_extension": ".py",
   "mimetype": "text/x-python",
   "name": "python",
   "nbconvert_exporter": "python",
   "pygments_lexer": "ipython3",
   "version": "3.10.8"
  }
 },
 "nbformat": 4,
 "nbformat_minor": 5
}
